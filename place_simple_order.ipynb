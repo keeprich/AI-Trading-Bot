{
  "nbformat": 4,
  "nbformat_minor": 0,
  "metadata": {
    "colab": {
      "provenance": [],
      "authorship_tag": "ABX9TyP2tLoRLFyBR7pdV2eg1cOk",
      "include_colab_link": true
    },
    "kernelspec": {
      "name": "python3",
      "display_name": "Python 3"
    },
    "language_info": {
      "name": "python"
    }
  },
  "cells": [
    {
      "cell_type": "markdown",
      "metadata": {
        "id": "view-in-github",
        "colab_type": "text"
      },
      "source": [
        "<a href=\"https://colab.research.google.com/github/keeprich/AI-Trading-Bot/blob/main/place_simple_order.ipynb\" target=\"_parent\"><img src=\"https://colab.research.google.com/assets/colab-badge.svg\" alt=\"Open In Colab\"/></a>"
      ]
    },
    {
      "cell_type": "code",
      "execution_count": null,
      "metadata": {
        "colab": {
          "base_uri": "https://localhost:8080/"
        },
        "id": "qaxWREs7yXXv",
        "outputId": "28538efa-efaa-47ee-f57d-2b2f6b8be947"
      },
      "outputs": [
        {
          "output_type": "stream",
          "name": "stdout",
          "text": [
            "Collecting oandapyV20\n",
            "  Downloading oandapyV20-0.7.2.tar.gz (51 kB)\n",
            "\u001b[?25l     \u001b[90m━━━━━━━━━━━━━━━━━━━━━━━━━━━━━━━━━━━━━━━━\u001b[0m \u001b[32m0.0/51.6 kB\u001b[0m \u001b[31m?\u001b[0m eta \u001b[36m-:--:--\u001b[0m\r\u001b[2K     \u001b[91m━━━━━━━━━━━━━━━━━━━━━━━━━━━━━━━━━━━━━━━\u001b[0m\u001b[91m╸\u001b[0m \u001b[32m51.2/51.6 kB\u001b[0m \u001b[31m18.5 MB/s\u001b[0m eta \u001b[36m0:00:01\u001b[0m\r\u001b[2K     \u001b[90m━━━━━━━━━━━━━━━━━━━━━━━━━━━━━━━━━━━━━━━━\u001b[0m \u001b[32m51.6/51.6 kB\u001b[0m \u001b[31m1.2 MB/s\u001b[0m eta \u001b[36m0:00:00\u001b[0m\n",
            "\u001b[?25h  Preparing metadata (setup.py) ... \u001b[?25l\u001b[?25hdone\n",
            "Building wheels for collected packages: oandapyV20\n",
            "  Building wheel for oandapyV20 (setup.py) ... \u001b[?25l\u001b[?25hdone\n",
            "  Created wheel for oandapyV20: filename=oandapyV20-0.7.2-py3-none-any.whl size=69778 sha256=509cb5534049bb8ea7e0ab55c4505469c3b2d832fc93ba42907db74f50e00d3d\n",
            "  Stored in directory: /root/.cache/pip/wheels/8e/69/ab/a6da84a85b9bf3b5a98ca15c6c52b7854f32b10c70fe0531a1\n",
            "Successfully built oandapyV20\n",
            "Installing collected packages: oandapyV20\n",
            "Successfully installed oandapyV20-0.7.2\n"
          ]
        }
      ],
      "source": [
        "!pip install oandapyV20"
      ]
    },
    {
      "cell_type": "code",
      "source": [],
      "metadata": {
        "id": "b1esWHDmybtG"
      },
      "execution_count": null,
      "outputs": []
    },
    {
      "cell_type": "code",
      "source": [
        "from oandapyV20 import API\n",
        "from oandapyV20.endpoints.orders import OrderCreate\n",
        "from oandapyV20.endpoints.accounts import AccountInstruments\n",
        "import oandapyV20\n",
        "\n",
        "# Replace with your actual API credentials\n",
        "\n",
        "API_KEY = \"7881b59039beb34197d5c0d3d16f0a7a-fa4ffbfebacce78af23ec0227bef49bd\"\n",
        "ACCOUNT_ID = \"101-004-30239848-002\"\n",
        "api = API(access_token=API_KEY)\n",
        "\n",
        "\n",
        "def get_instrument_precision(symbol):\n",
        "    \"\"\"Fetch instrument details to get the price precision.\"\"\"\n",
        "    try:\n",
        "        response = api.request(AccountInstruments(accountID=ACCOUNT_ID))\n",
        "        for instrument in response['instruments']:\n",
        "            if instrument['name'] == symbol:\n",
        "                return int(instrument['displayPrecision'])\n",
        "    except oandapyV20.exceptions.V20Error as e:\n",
        "        print(f\"Error fetching instrument details: {e}\")\n",
        "    return 5  # Default precision if unable to retrieve\n",
        "\n",
        "def place_test_order(symbol, action, lot_size, tp, sl):\n",
        "    # Fetch the required decimal precision for the instrument\n",
        "    precision = get_instrument_precision(symbol)\n",
        "\n",
        "    # Format TP and SL prices dynamically based on the precision\n",
        "    tp = f\"{tp:.{precision}f}\"\n",
        "    sl = f\"{sl:.{precision}f}\"\n",
        "\n",
        "    # Order data with formatted TP and SL\n",
        "    order_data = {\n",
        "        \"order\": {\n",
        "            \"units\": str(lot_size) if action == \"buy\" else str(-lot_size),\n",
        "            \"instrument\": symbol,\n",
        "            \"timeInForce\": \"FOK\",\n",
        "            \"type\": \"MARKET\",\n",
        "            \"positionFill\": \"DEFAULT\",\n",
        "            \"takeProfitOnFill\": {\n",
        "                \"price\": tp\n",
        "            },\n",
        "            \"stopLossOnFill\": {\n",
        "                \"price\": sl\n",
        "            }\n",
        "        }\n",
        "    }\n",
        "\n",
        "    # Print the order details before placing it\n",
        "    print(\"Placing order with the following details:\")\n",
        "    print(f\"Instrument: {symbol}\")\n",
        "    print(f\"Action: {'BUY' if action == 'buy' else 'SELL'}\")\n",
        "    print(f\"Lot Size: {lot_size}\")\n",
        "    print(f\"Take Profit (TP): {tp}\")\n",
        "    print(f\"Stop Loss (SL): {sl}\")\n",
        "    print(f\"Order Data: {order_data}\")\n",
        "\n",
        "    try:\n",
        "        # Place the order\n",
        "        response = api.request(OrderCreate(ACCOUNT_ID, data=order_data))\n",
        "        print(\"Order placed successfully. Response from server:\")\n",
        "        print(response)\n",
        "    except oandapyV20.exceptions.V20Error as e:\n",
        "        print(\"Error placing order:\", e)\n",
        "\n",
        "# Test values\n",
        "symbol = \"EUR_USD\"        # Instrument\n",
        "action = \"buy\"            # Buy action\n",
        "lot_size = 1000           # Number of units\n",
        "current_price = 1.0772    # Example current price\n",
        "\n",
        "# Calculate TP and SL based on a simple percentage\n",
        "tp = current_price * 1.005  # 0.5% above current price\n",
        "sl = current_price * 0.995  # 0.5% below current price\n",
        "\n",
        "# Call the function to place a test order\n",
        "place_test_order(symbol, action, lot_size, tp, sl)\n"
      ],
      "metadata": {
        "colab": {
          "base_uri": "https://localhost:8080/"
        },
        "id": "tsEEgGuPybpk",
        "outputId": "aa80330c-9171-4894-9d32-5bdaf6a7f77b"
      },
      "execution_count": null,
      "outputs": [
        {
          "output_type": "stream",
          "name": "stdout",
          "text": [
            "Placing order with the following details:\n",
            "Instrument: EUR_USD\n",
            "Action: BUY\n",
            "Lot Size: 1000\n",
            "Take Profit (TP): 1.08259\n",
            "Stop Loss (SL): 1.07181\n",
            "Order Data: {'order': {'units': '1000', 'instrument': 'EUR_USD', 'timeInForce': 'FOK', 'type': 'MARKET', 'positionFill': 'DEFAULT', 'takeProfitOnFill': {'price': '1.08259'}, 'stopLossOnFill': {'price': '1.07181'}}}\n",
            "Order placed successfully. Response from server:\n",
            "{'orderCreateTransaction': {'id': '40', 'accountID': '101-004-30239848-002', 'userID': 30239848, 'batchID': '40', 'requestID': '61303828526500733', 'time': '2024-11-08T12:43:22.087181429Z', 'type': 'MARKET_ORDER', 'instrument': 'EUR_USD', 'units': '1000', 'timeInForce': 'FOK', 'positionFill': 'DEFAULT', 'takeProfitOnFill': {'price': '1.08259', 'timeInForce': 'GTC'}, 'stopLossOnFill': {'price': '1.07181', 'timeInForce': 'GTC', 'triggerMode': 'TOP_OF_BOOK'}, 'reason': 'CLIENT_ORDER'}, 'orderFillTransaction': {'id': '41', 'accountID': '101-004-30239848-002', 'userID': 30239848, 'batchID': '40', 'requestID': '61303828526500733', 'time': '2024-11-08T12:43:22.087181429Z', 'type': 'ORDER_FILL', 'orderID': '40', 'instrument': 'EUR_USD', 'units': '1000', 'requestedUnits': '1000', 'price': '1.07697', 'pl': '0.0000', 'quotePL': '0', 'financing': '0.0000', 'baseFinancing': '0', 'commission': '0.0000', 'accountBalance': '99990.7916', 'gainQuoteHomeConversionFactor': '1', 'lossQuoteHomeConversionFactor': '1', 'guaranteedExecutionFee': '0.0000', 'quoteGuaranteedExecutionFee': '0', 'halfSpreadCost': '0.0350', 'fullVWAP': '1.07697', 'reason': 'MARKET_ORDER', 'tradeOpened': {'price': '1.07697', 'tradeID': '41', 'units': '1000', 'guaranteedExecutionFee': '0.0000', 'quoteGuaranteedExecutionFee': '0', 'halfSpreadCost': '0.0350', 'initialMarginRequired': '35.8980'}, 'fullPrice': {'closeoutBid': '1.07681', 'closeoutAsk': '1.07706', 'timestamp': '2024-11-08T12:43:20.364024352Z', 'bids': [{'price': '1.07690', 'liquidity': '500000'}, {'price': '1.07689', 'liquidity': '2500000'}, {'price': '1.07688', 'liquidity': '2000000'}, {'price': '1.07687', 'liquidity': '5000000'}, {'price': '1.07684', 'liquidity': '10000000'}, {'price': '1.07681', 'liquidity': '10000000'}], 'asks': [{'price': '1.07697', 'liquidity': '500000'}, {'price': '1.07698', 'liquidity': '500000'}, {'price': '1.07699', 'liquidity': '2000000'}, {'price': '1.07700', 'liquidity': '2000000'}, {'price': '1.07701', 'liquidity': '5000000'}, {'price': '1.07703', 'liquidity': '10000000'}, {'price': '1.07706', 'liquidity': '10000000'}]}, 'homeConversionFactors': {'gainQuoteHome': {'factor': '1'}, 'lossQuoteHome': {'factor': '1'}, 'gainBaseHome': {'factor': '1.07155530'}, 'lossBaseHome': {'factor': '1.08232470'}}}, 'relatedTransactionIDs': ['40', '41', '42', '43'], 'lastTransactionID': '43'}\n"
          ]
        }
      ]
    },
    {
      "cell_type": "code",
      "source": [],
      "metadata": {
        "id": "1qR043SQybnQ"
      },
      "execution_count": null,
      "outputs": []
    },
    {
      "cell_type": "code",
      "source": [],
      "metadata": {
        "id": "9bKwneD0yblK"
      },
      "execution_count": null,
      "outputs": []
    },
    {
      "cell_type": "code",
      "source": [],
      "metadata": {
        "id": "7zALS_s_ybi-"
      },
      "execution_count": null,
      "outputs": []
    },
    {
      "cell_type": "code",
      "source": [],
      "metadata": {
        "id": "CkkzHTtoybhX"
      },
      "execution_count": null,
      "outputs": []
    },
    {
      "cell_type": "code",
      "source": [],
      "metadata": {
        "id": "99dMPj9pybcw"
      },
      "execution_count": null,
      "outputs": []
    }
  ]
}